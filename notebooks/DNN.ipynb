{
 "cells": [
  {
   "cell_type": "markdown",
   "id": "sapphire-basis",
   "metadata": {},
   "source": [
    "# DNN with `grblas`\n",
    "\n",
    "- Problem from: http://graphchallenge.mit.edu/challenges\n",
    "- Data from: http://graphchallenge.mit.edu/data-sets\n",
    "- Based on: https://github.com/GraphBLAS/LAGraph/blob/666b4a1fd0c7c27395dc912ecfca2cfe108dd3e4/Experimental/Algorithm/LAGraph_dnn.c"
   ]
  },
  {
   "cell_type": "code",
   "execution_count": null,
   "id": "peaceful-liberia",
   "metadata": {},
   "outputs": [],
   "source": [
    "import grblas as gb\n",
    "import numpy as np\n",
    "import pandas as pd\n",
    "from grblas import Vector, Matrix, replace"
   ]
  },
  {
   "cell_type": "code",
   "execution_count": null,
   "id": "opened-coordination",
   "metadata": {},
   "outputs": [],
   "source": [
    "# Indices in files are 1-based, so we always subtract one\n",
    "nlayers = 120\n",
    "nneurons = 1024\n",
    "nfeatures = 60000\n",
    "neural_net_bias = -0.3\n",
    "ymax = 32.0\n",
    "dtype = gb.dtypes.FP64  # FP32 should also work (and be faster)\n",
    "W = []\n",
    "Bias = []"
   ]
  },
  {
   "cell_type": "code",
   "execution_count": null,
   "id": "internal-classroom",
   "metadata": {},
   "outputs": [],
   "source": [
    "for i in range(1, nlayers + 1):\n",
    "    df = pd.read_csv(f'Matrices/neuron{nneurons}/n{nneurons}-l{i}.tsv', delimiter='\\t', header=None)\n",
    "    W.append(Matrix.from_values(\n",
    "        df[0].values - 1, df[1].values - 1, df[2].values,\n",
    "        nrows=nneurons, ncols=nneurons, dtype=dtype,\n",
    "    ))"
   ]
  },
  {
   "cell_type": "code",
   "execution_count": null,
   "id": "laughing-indiana",
   "metadata": {},
   "outputs": [],
   "source": [
    "a = np.arange(nneurons)\n",
    "for i in range(nlayers):\n",
    "    Bias.append(Matrix.from_values(\n",
    "        a, a, np.repeat(neural_net_bias, nneurons),\n",
    "        nrows=nneurons, ncols=nneurons, dtype=dtype,\n",
    "    ))"
   ]
  },
  {
   "cell_type": "code",
   "execution_count": null,
   "id": "mechanical-account",
   "metadata": {},
   "outputs": [],
   "source": [
    "df = pd.read_csv(f'Matrices/neuron{nneurons}/neuron{nneurons}-l{nlayers}-categories.tsv', header=None)\n",
    "true_categories = Vector.from_values(df[0].values - 1, np.repeat(True, len(df)), size=nfeatures)"
   ]
  },
  {
   "cell_type": "code",
   "execution_count": null,
   "id": "fleet-extension",
   "metadata": {},
   "outputs": [],
   "source": [
    "df = pd.read_csv(f'Matrices/neuron{nneurons}/sparse-images-{nneurons}.tsv', delimiter='\\t', header=None)\n",
    "Y0 = Matrix.from_values(\n",
    "    df[0].values - 1, df[1].values - 1, df[2].values,\n",
    "    nrows=nfeatures, ncols=nneurons, dtype=dtype,\n",
    ")"
   ]
  },
  {
   "cell_type": "code",
   "execution_count": null,
   "id": "monthly-military",
   "metadata": {},
   "outputs": [],
   "source": [
    "def DNN(W, Bias, Y0):\n",
    "    dtype = Y0.dtype\n",
    "    nlayers = len(W)\n",
    "    nfeatures = Y0.nrows\n",
    "    nneurons = Y0.ncols\n",
    "\n",
    "    plus_times = gb.semiring.plus_times[dtype]\n",
    "    plus_plus = gb.semiring.plus_plus[dtype]\n",
    "    gt = gb.binary.gt[dtype]\n",
    "    fmin = gb.binary.min\n",
    "    identity = gb.unary.identity[dtype]\n",
    "\n",
    "    Y = Matrix.new(dtype, nrows=nfeatures, ncols=nneurons)\n",
    "    M = Matrix.new(bool, nrows=nfeatures, ncols=nneurons)\n",
    "    for layer in range(nlayers):\n",
    "        if layer == 0:\n",
    "            Y << plus_times(Y0 @ W[layer])\n",
    "        else:\n",
    "            Y << plus_times(Y @ W[layer])\n",
    "        Y << plus_plus(Y @ Bias[layer])\n",
    "\n",
    "        # select: Y << Y[gt(Y, 0)]\n",
    "        M << gt(Y, 0)\n",
    "        Y(M.V, replace) << identity(Y)\n",
    "\n",
    "        Y << fmin(Y, ymax)\n",
    "    return Y"
   ]
  },
  {
   "cell_type": "code",
   "execution_count": null,
   "id": "changed-banks",
   "metadata": {},
   "outputs": [],
   "source": [
    "%%time\n",
    "Y = DNN(W, Bias, Y0)\n",
    "categories = Y.reduce_rows().new(dtype=bool)\n",
    "assert categories.isequal(true_categories)"
   ]
  },
  {
   "cell_type": "code",
   "execution_count": null,
   "id": "fatty-philosophy",
   "metadata": {},
   "outputs": [],
   "source": [
    "# What happens if we create new matrices?\n",
    "def DNN2(W, Bias, Y0):\n",
    "    dtype = Y0.dtype\n",
    "    nlayers = len(W)\n",
    "    nfeatures = Y0.nrows\n",
    "    nneurons = Y0.ncols\n",
    "\n",
    "    plus_times = gb.semiring.plus_times[dtype]\n",
    "    plus_plus = gb.semiring.plus_plus[dtype]\n",
    "    gt = gb.binary.gt[dtype]\n",
    "    fmin = gb.binary.min\n",
    "    identity = gb.unary.identity[dtype]\n",
    "\n",
    "    Y = Y0\n",
    "    for layer in range(nlayers):\n",
    "        Y = plus_times(Y @ W[layer]).new()\n",
    "        Y = plus_plus(Y @ Bias[layer]).new()\n",
    "\n",
    "        # select: Y << Y[gt(Y, 0)]\n",
    "        M = gt(Y, 0).new()\n",
    "        Y(M.V, replace) << identity(Y)\n",
    "\n",
    "        Y = fmin(Y, ymax).new()\n",
    "    return Y"
   ]
  },
  {
   "cell_type": "code",
   "execution_count": null,
   "id": "altered-grounds",
   "metadata": {},
   "outputs": [],
   "source": [
    "%%time\n",
    "Y = DNN(W, Bias, Y0)\n",
    "categories = Y.reduce_rows().new(dtype=bool)\n",
    "assert categories.isequal(true_categories)"
   ]
  },
  {
   "cell_type": "code",
   "execution_count": null,
   "id": "charged-montana",
   "metadata": {},
   "outputs": [],
   "source": []
  }
 ],
 "metadata": {
  "kernelspec": {
   "display_name": "Python 3",
   "language": "python",
   "name": "python3"
  },
  "language_info": {
   "codemirror_mode": {
    "name": "ipython",
    "version": 3
   },
   "file_extension": ".py",
   "mimetype": "text/x-python",
   "name": "python",
   "nbconvert_exporter": "python",
   "pygments_lexer": "ipython3",
   "version": "3.8.8"
  }
 },
 "nbformat": 4,
 "nbformat_minor": 5
}
