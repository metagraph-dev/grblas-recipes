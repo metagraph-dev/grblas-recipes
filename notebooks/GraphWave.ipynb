{
 "cells": [
  {
   "cell_type": "markdown",
   "id": "fed64f8d",
   "metadata": {},
   "source": [
    "# GraphWave"
   ]
  },
  {
   "cell_type": "code",
   "execution_count": null,
   "id": "dc95bc0c",
   "metadata": {},
   "outputs": [],
   "source": [
    "import networkx as nx\n",
    "import numpy as np\n",
    "import pandas as pd\n",
    "import scipy.sparse.linalg\n",
    "from scipy import sparse\n",
    "from grblas import *"
   ]
  },
  {
   "cell_type": "code",
   "execution_count": null,
   "id": "fd87681e",
   "metadata": {},
   "outputs": [],
   "source": [
    "def isclose(gb_x, np_y, rel_tol=1e-07, abs_tol=0.0):\n",
    "    if isinstance(gb_x, Vector):\n",
    "        return gb_x.isclose(Vector.ss.import_full(np_y), rel_tol=rel_tol, abs_tol=abs_tol)\n",
    "    elif isinstance(gb_x, Matrix):\n",
    "        if sparse.issparse(np_y):\n",
    "            y = io.from_scipy_sparse_matrix(np_y)\n",
    "        else:\n",
    "            y = Matrix.ss.import_fullr(np_y)\n",
    "        return gb_x.isclose(y, rel_tol=rel_tol, abs_tol=abs_tol)\n",
    "    else:  # Scalar\n",
    "        return gb_x.isclose(np_y, rel_tol=rel_tol, abs_tol=abs_tol)"
   ]
  },
  {
   "cell_type": "code",
   "execution_count": null,
   "id": "33c4dbb2",
   "metadata": {},
   "outputs": [],
   "source": [
    "taus = [0.5, 0.6]\n",
    "lmax = 1.  # given or computed"
   ]
  },
  {
   "cell_type": "code",
   "execution_count": null,
   "id": "4a00c16f",
   "metadata": {},
   "outputs": [],
   "source": [
    "edgelist = np.array(pd.read_csv('3200.edgelist', sep='\\t', header=None, dtype=int))\n",
    "W = sparse.csr_matrix((np.arange(edgelist.shape[0]), (edgelist[:,0], edgelist[:,1])))\n",
    "W = ((W + W.T) > 0).astype(int)"
   ]
  },
  {
   "cell_type": "code",
   "execution_count": null,
   "id": "fae2db8c",
   "metadata": {},
   "outputs": [],
   "source": [
    "edgelist = pd.read_csv('3200.edgelist', sep='\\t', header=None, dtype=int).values\n",
    "W_gb = Matrix.from_values(edgelist[:, 0], edgelist[:, 1], 1)\n",
    "assert isclose(W_gb, W)"
   ]
  },
  {
   "cell_type": "markdown",
   "id": "e3aca71d",
   "metadata": {},
   "source": [
    "#### Note that isolated nodes should be dropped!"
   ]
  },
  {
   "cell_type": "code",
   "execution_count": null,
   "id": "a4b16aa6",
   "metadata": {},
   "outputs": [],
   "source": [
    "assert not (W.sum(axis=0) == 0).any()"
   ]
  },
  {
   "cell_type": "code",
   "execution_count": null,
   "id": "6f6debd3",
   "metadata": {},
   "outputs": [],
   "source": [
    "num_nodes = W.shape[0]"
   ]
  },
  {
   "cell_type": "markdown",
   "id": "54966c80",
   "metadata": {},
   "source": [
    "### Choose signal nodes (or use all nodes)"
   ]
  },
  {
   "cell_type": "code",
   "execution_count": null,
   "id": "2dd46223",
   "metadata": {},
   "outputs": [],
   "source": [
    "use_all_signals = True\n",
    "if use_all_signals:\n",
    "    signal = np.eye(num_nodes)\n",
    "    signal_gb = ss.diag(Vector.from_values(np.arange(num_nodes), 1))\n",
    "else:\n",
    "    n_signals = num_nodes // 2  # pick a number, any number!\n",
    "    signal_idx = np.sort(np.random.choice(num_nodes, n_signals, replace=False))\n",
    "    signal = np.zeros((num_nodes, n_signals), dtype=int)\n",
    "    for i, idx in enumerate(signal_idx):\n",
    "        signal[idx, i] = 1\n",
    "\n",
    "    signal_gb = Matrix.from_values(\n",
    "        signal_idx, np.arange(n_signals), 1, nrows=num_nodes, ncols=n_signals\n",
    "    )\n",
    "assert signal_gb.isclose(io.from_numpy(signal))"
   ]
  },
  {
   "cell_type": "markdown",
   "id": "584d3efd",
   "metadata": {},
   "source": [
    "### Laplacian"
   ]
  },
  {
   "cell_type": "code",
   "execution_count": null,
   "id": "711ac741",
   "metadata": {},
   "outputs": [],
   "source": [
    "dw = np.asarray(W.sum(axis=1)).squeeze()\n",
    "d = np.power(dw, -0.5)\n",
    "D = sparse.diags(np.ravel(d), 0).tocsc()\n",
    "L = sparse.identity(W.shape[0]) - D @ W @ D"
   ]
  },
  {
   "cell_type": "code",
   "execution_count": null,
   "id": "9094a69a",
   "metadata": {},
   "outputs": [],
   "source": [
    "dw_gb = W_gb.reduce_rowwise(op.plus).new()\n",
    "d_gb = op.pow(dw_gb, -0.5).new()\n",
    "D_gb = ss.diag(d_gb)\n",
    "L_gb = (-D_gb.T @ W_gb @ D_gb).new()\n",
    "L_gb(op.plus) << ss.diag(Vector.from_values(np.arange(num_nodes), 1))\n",
    "assert isclose(dw_gb, dw)\n",
    "assert isclose(d_gb, d)\n",
    "assert isclose(D_gb, D)\n",
    "assert isclose(L_gb, L)"
   ]
  },
  {
   "cell_type": "code",
   "execution_count": null,
   "id": "c1b549c1",
   "metadata": {},
   "outputs": [],
   "source": [
    "# or use given lmax\n",
    "lmax = sparse.linalg.eigsh(\n",
    "    L, k=1, tol=5e-3, ncv=min(L.shape[0], 10), return_eigenvectors=False\n",
    ")[0]*1.01\n",
    "lmax"
   ]
  },
  {
   "cell_type": "markdown",
   "id": "1d6a4455",
   "metadata": {},
   "source": [
    "### Filter"
   ]
  },
  {
   "cell_type": "code",
   "execution_count": null,
   "id": "deebf4bf",
   "metadata": {},
   "outputs": [],
   "source": [
    "order = 30\n",
    "n_signals = signal.shape[1]\n",
    "n_features_out = len(taus)"
   ]
  },
  {
   "cell_type": "markdown",
   "id": "1e573e5f",
   "metadata": {},
   "source": [
    "#### Chebyshev coefficients"
   ]
  },
  {
   "cell_type": "code",
   "execution_count": null,
   "id": "fe6c8617",
   "metadata": {},
   "outputs": [],
   "source": [
    "tau = taus[0]\n",
    "N = order + 1\n",
    "a = lmax / 2.\n",
    "rangeN = np.arange(N)\n",
    "tmpN = np.pi / N * (rangeN + 0.5)\n",
    "num = np.cos(tmpN)"
   ]
  },
  {
   "cell_type": "code",
   "execution_count": null,
   "id": "3c83638c",
   "metadata": {},
   "outputs": [],
   "source": [
    "c = np.empty(N)\n",
    "for o in range(N):\n",
    "    kernel = lambda x: np.exp(-tau * x / lmax)\n",
    "    c[o] = 2. / N * (kernel(a * num + a) @ np.cos(o * tmpN))\n",
    "c"
   ]
  },
  {
   "cell_type": "code",
   "execution_count": null,
   "id": "18033a00",
   "metadata": {},
   "outputs": [],
   "source": [
    "c2 = np.empty(N)\n",
    "y = 2 / N * np.exp(-tau / lmax * (a * num + a))\n",
    "for o in range(N):\n",
    "    c2[o] = y @ np.cos(o * tmpN)\n",
    "np.testing.assert_array_almost_equal(c, c2)"
   ]
  },
  {
   "cell_type": "code",
   "execution_count": null,
   "id": "2ff2b8d1",
   "metadata": {},
   "outputs": [],
   "source": [
    "z = np.cos(np.outer(tmpN, rangeN))\n",
    "c3 = y @ z\n",
    "np.testing.assert_array_almost_equal(c, c3)"
   ]
  },
  {
   "cell_type": "code",
   "execution_count": null,
   "id": "5deccfa5",
   "metadata": {},
   "outputs": [],
   "source": [
    "rangeN_gb = Vector.from_values(rangeN, rangeN)\n",
    "tmpN_gb = op.plus(rangeN_gb, 0.5).new()\n",
    "tmpN_gb = op.times(tmpN_gb, np.pi / N).new()\n",
    "num_gb = op.cos(tmpN_gb).new()\n",
    "\n",
    "y_gb = op.times(num_gb, a).new()\n",
    "y_gb = op.plus(y_gb, a).new()\n",
    "y_gb = op.times(y_gb, -tau / lmax).new()\n",
    "y_gb = op.exp(y_gb).new()\n",
    "y_gb = op.times(y_gb, 2 / N).new()\n",
    "z_gb = tmpN_gb.outer(rangeN_gb).new()\n",
    "z_gb = op.cos(z_gb).new()\n",
    "c_gb = (y_gb @ z_gb).new()\n",
    "assert isclose(rangeN_gb, rangeN)\n",
    "assert isclose(tmpN_gb, tmpN)\n",
    "assert isclose(num_gb, num)\n",
    "assert isclose(y_gb, y)\n",
    "assert isclose(z_gb, z)\n",
    "assert isclose(c_gb, c, abs_tol=1e-15)"
   ]
  },
  {
   "cell_type": "code",
   "execution_count": null,
   "id": "d0e693bc",
   "metadata": {},
   "outputs": [],
   "source": [
    "# Here we go\n",
    "cs = []\n",
    "z = np.cos(np.outer(tmpN, rangeN))\n",
    "for tau in taus:\n",
    "    y = 2 / N * np.exp(-tau / lmax * (a * num + a))\n",
    "    cs.append(y @ z)\n",
    "np.testing.assert_array_almost_equal(c, cs[0])"
   ]
  },
  {
   "cell_type": "code",
   "execution_count": null,
   "id": "b23f762b",
   "metadata": {},
   "outputs": [],
   "source": [
    "cs_gb = []\n",
    "for tau in taus:\n",
    "    y_gb = op.times(num_gb, a).new()\n",
    "    y_gb = op.plus(y_gb, a).new()\n",
    "    y_gb = op.times(y_gb, -tau / lmax).new()\n",
    "    y_gb = op.exp(y_gb).new()\n",
    "    y_gb = op.times(y_gb, 2 / N).new()\n",
    "    z_gb = tmpN_gb.outer(rangeN_gb).new()\n",
    "    z_gb = op.cos(z_gb).new()\n",
    "    cs_gb.append((y_gb @ z_gb).new())"
   ]
  },
  {
   "cell_type": "code",
   "execution_count": null,
   "id": "b33a038d",
   "metadata": {},
   "outputs": [],
   "source": [
    "for i in range(n_features_out):\n",
    "    assert isclose(cs_gb[i], cs[i], abs_tol=1e-15), i"
   ]
  },
  {
   "cell_type": "code",
   "execution_count": null,
   "id": "ab7ec1bc",
   "metadata": {},
   "outputs": [],
   "source": [
    "c = np.atleast_2d(cs)"
   ]
  },
  {
   "cell_type": "code",
   "execution_count": null,
   "id": "5ecf68c9",
   "metadata": {},
   "outputs": [],
   "source": [
    "heat_print = np.zeros((n_features_out, num_nodes, n_signals))\n",
    "heat_print.shape  # do one feature at a time so we can do it in GraphBLAS"
   ]
  },
  {
   "cell_type": "code",
   "execution_count": null,
   "id": "5c991ecf",
   "metadata": {},
   "outputs": [],
   "source": [
    "twf_old = signal\n",
    "twf_cur = 1. / a * (L.dot(signal) - a * signal)\n",
    "for i in range(n_features_out):\n",
    "    tmp = 0.5 * c[i, 0] * twf_old + c[i, 1] * twf_cur\n",
    "    if sparse.issparse(tmp):\n",
    "        tmp = tmp.todense()\n",
    "    heat_print[i] = tmp"
   ]
  },
  {
   "cell_type": "code",
   "execution_count": null,
   "id": "c71d24ec",
   "metadata": {},
   "outputs": [],
   "source": [
    "heat_print_gbs = []"
   ]
  },
  {
   "cell_type": "code",
   "execution_count": null,
   "id": "474c37d5",
   "metadata": {},
   "outputs": [],
   "source": [
    "twf_old_gb = signal_gb.dup()\n",
    "twf_cur_gb = (L_gb @ signal_gb).new()\n",
    "twf_cur_gb = op.truediv(twf_cur_gb, a).new()\n",
    "\n",
    "# twf_cur_gb = op.minus(twf_cur_gb | signal_gb, require_monoid=False).new()  # also works\n",
    "twf_cur_gb = op.plus(twf_cur_gb | -signal_gb).new()\n",
    "\n",
    "assert twf_old_gb.isclose(io.from_numpy(twf_old))\n",
    "assert twf_cur_gb.isclose(io.from_numpy(twf_cur))"
   ]
  },
  {
   "cell_type": "code",
   "execution_count": null,
   "id": "5b272066",
   "metadata": {},
   "outputs": [],
   "source": [
    "for i in range(n_features_out):\n",
    "    tmp_gb = op.plus(\n",
    "        op.times(twf_old_gb, 0.5 * cs_gb[i][0].value)\n",
    "        | op.times(twf_cur_gb, cs_gb[i][1].value)\n",
    "    ).new()\n",
    "    heat_print_gbs.append(tmp_gb)\n",
    "assert tmp_gb.isclose(io.from_numpy(tmp))\n",
    "for i in range(n_features_out):\n",
    "    assert heat_print_gbs[i].isclose(io.from_numpy(heat_print[i])), i"
   ]
  },
  {
   "cell_type": "code",
   "execution_count": null,
   "id": "2355ec35",
   "metadata": {},
   "outputs": [],
   "source": [
    "factor = 2 / a * (L - a * sparse.eye(num_nodes))\n",
    "for k in range(2, c.shape[1]):\n",
    "    twf_new = factor.dot(twf_cur) - twf_old\n",
    "\n",
    "    for i in range(n_features_out):\n",
    "        tmp = c[i, k] * twf_new\n",
    "        if sparse.issparse(tmp):\n",
    "            tmp = tmp.todense()\n",
    "\n",
    "        heat_print[i] += tmp\n",
    "\n",
    "    twf_old = twf_cur\n",
    "    twf_cur = twf_new"
   ]
  },
  {
   "cell_type": "code",
   "execution_count": null,
   "id": "4cc89168",
   "metadata": {},
   "outputs": [],
   "source": [
    "# factor_gb = op.minus(  # also works\n",
    "#     L_gb | ss.diag(Vector.from_values(np.arange(num_nodes), a)),\n",
    "#     require_monoid=False\n",
    "# ).new()\n",
    "factor_gb = op.plus(\n",
    "    L_gb | -ss.diag(Vector.from_values(np.arange(num_nodes), a))\n",
    ").new()\n",
    "\n",
    "factor_gb = op.times(factor_gb, 2 / a).new()\n",
    "assert isclose(factor_gb, factor)"
   ]
  },
  {
   "cell_type": "code",
   "execution_count": null,
   "id": "ae08df89",
   "metadata": {},
   "outputs": [],
   "source": [
    "for k in range(2, c.shape[1]):\n",
    "    # twf_new_gb = op.minus(  # also works\n",
    "    #     (factor_gb @ twf_cur_gb) | twf_old_gb,\n",
    "    #     require_monoid=False\n",
    "    # ).new()\n",
    "    twf_new_gb = op.plus(\n",
    "        (factor_gb @ twf_cur_gb) | -twf_old_gb\n",
    "    ).new()\n",
    "\n",
    "    for i in range(n_features_out):\n",
    "        heat_print_gbs[i](op.plus) << op.times(twf_new_gb, cs_gb[i][k].value)\n",
    "    twf_old_gb = twf_cur_gb\n",
    "    twf_cur_gb = twf_new_gb"
   ]
  },
  {
   "cell_type": "code",
   "execution_count": null,
   "id": "6ca245d0",
   "metadata": {},
   "outputs": [],
   "source": [
    "assert twf_new_gb.isclose(io.from_numpy(twf_new))\n",
    "assert twf_cur_gb.isclose(io.from_numpy(twf_cur))\n",
    "assert twf_old_gb.isclose(io.from_numpy(twf_old))\n",
    "for i in range(n_features_out):\n",
    "    assert heat_print_gbs[i].isclose(io.from_numpy(heat_print[i]), abs_tol=1e-15), i"
   ]
  },
  {
   "cell_type": "markdown",
   "id": "510d3978",
   "metadata": {},
   "source": [
    "### Featurize\n",
    "\n",
    "First, let's verify the characteristic function and implement it without complex numbers"
   ]
  },
  {
   "cell_type": "code",
   "execution_count": null,
   "id": "15b7769b",
   "metadata": {},
   "outputs": [],
   "source": [
    "# `t` here should probably be an input to the GraphWave algorithm\n",
    "def characteristic_function(s, t=np.arange(0, 100, 2)):\n",
    "    return (np.exp(complex(0, 1) * s) ** t.reshape(-1, 1)).mean(axis=1)"
   ]
  },
  {
   "cell_type": "code",
   "execution_count": null,
   "id": "72d817d3",
   "metadata": {},
   "outputs": [],
   "source": [
    "if use_all_signals:\n",
    "    np.testing.assert_array_almost_equal(heat_print.transpose((0, 2, 1)), heat_print)\n",
    "else:\n",
    "    heat_print = heat_print.transpose((0, 2, 1))"
   ]
  },
  {
   "cell_type": "code",
   "execution_count": null,
   "id": "ede8823e",
   "metadata": {},
   "outputs": [],
   "source": [
    "for i, sig in enumerate(heat_print):\n",
    "    for node_sig in sig:\n",
    "        break\n",
    "    break"
   ]
  },
  {
   "cell_type": "code",
   "execution_count": null,
   "id": "4eb4615a",
   "metadata": {},
   "outputs": [],
   "source": [
    "characteristic_function(node_sig)"
   ]
  },
  {
   "cell_type": "code",
   "execution_count": null,
   "id": "e4a5da65",
   "metadata": {},
   "outputs": [],
   "source": [
    "s = node_sig\n",
    "t = np.arange(0, 100, 2)\n",
    "tt = t.reshape(-1, 1)"
   ]
  },
  {
   "cell_type": "code",
   "execution_count": null,
   "id": "26ecedb5",
   "metadata": {},
   "outputs": [],
   "source": [
    "# Using complex numbers\n",
    "tmp = np.exp(complex(0, 1) * s) ** tt\n",
    "rv = tmp.mean(axis=1)\n",
    "rv_real = np.real(rv)\n",
    "rv_imag = np.imag(rv)"
   ]
  },
  {
   "cell_type": "code",
   "execution_count": null,
   "id": "7bc70340",
   "metadata": {},
   "outputs": [],
   "source": [
    "# Using real numbers\n",
    "A = np.cos(s)\n",
    "B = np.sin(s)\n",
    "theta = np.arctan2(B, A)\n",
    "theta2 = theta * tt\n",
    "rv_real2 = np.cos(theta2).mean(axis=1)\n",
    "rv_imag2 = np.sin(theta2).mean(axis=1)"
   ]
  },
  {
   "cell_type": "code",
   "execution_count": null,
   "id": "a661439a",
   "metadata": {},
   "outputs": [],
   "source": [
    "np.testing.assert_array_almost_equal(characteristic_function(node_sig), rv)\n",
    "np.testing.assert_array_almost_equal(rv_real, rv_real2)\n",
    "np.testing.assert_array_almost_equal(rv_imag, rv_imag2)"
   ]
  },
  {
   "cell_type": "code",
   "execution_count": null,
   "id": "60866cfc",
   "metadata": {},
   "outputs": [],
   "source": [
    "s_gb = heat_print_gbs[0][:, 0].new()\n",
    "t_gb = Vector.from_values(np.arange(t.size), t)\n",
    "A_gb = op.cos(s_gb).new()\n",
    "B_gb = op.sin(s_gb).new()\n",
    "theta_gb = op.atan2(B_gb & A_gb).new()\n",
    "theta2_gb = t_gb.outer(theta_gb).new()\n",
    "\n",
    "rv_real_gb = op.cos(theta2_gb).new()\n",
    "rv_real_gb(~rv_real_gb.S) << 1\n",
    "rv_real_gb = rv_real_gb.reduce_rows(op.plus).new()\n",
    "rv_real_gb = op.truediv(rv_real_gb, num_nodes).new()\n",
    "\n",
    "rv_imag_gb = op.sin(theta2_gb).new()\n",
    "rv_imag_gb = rv_imag_gb.reduce_rows(op.plus).new()\n",
    "rv_imag_gb = op.truediv(rv_imag_gb, num_nodes).new()\n",
    "\n",
    "assert s_gb.isclose(io.from_numpy(s), abs_tol=1e-15)\n",
    "assert isclose(t_gb, t)\n",
    "assert theta_gb.isclose(io.from_numpy(theta), abs_tol=1e-15)\n",
    "assert isclose(rv_real_gb, rv_real, abs_tol=1e-15)\n",
    "assert isclose(rv_imag_gb, rv_imag, abs_tol=1e-15)"
   ]
  },
  {
   "cell_type": "code",
   "execution_count": null,
   "id": "30759caa",
   "metadata": {},
   "outputs": [],
   "source": [
    "def characteristic_function_gb(s_gb, t=np.arange(0, 100, 2)):\n",
    "    t_gb = Vector.from_values(np.arange(t.size), t)\n",
    "    A_gb = op.cos(s_gb).new()\n",
    "    B_gb = op.sin(s_gb).new()\n",
    "    theta_gb = op.atan2(B_gb & A_gb).new()\n",
    "    theta2_gb = t_gb.outer(theta_gb).new()\n",
    "\n",
    "    rv_real_gb = op.cos(theta2_gb).new()\n",
    "    rv_real_gb(~rv_real_gb.S) << 1\n",
    "    rv_real_gb = rv_real_gb.reduce_rows(op.plus).new()\n",
    "    rv_real_gb = op.truediv(rv_real_gb, num_nodes).new()\n",
    "\n",
    "    rv_imag_gb = op.sin(theta2_gb).new()\n",
    "    rv_imag_gb = rv_imag_gb.reduce_rows(op.plus).new()\n",
    "    rv_imag_gb = op.truediv(rv_imag_gb, num_nodes).new()\n",
    "    return rv_real_gb, rv_imag_gb\n",
    "\n",
    "rv_real_gb, rv_imag_gb = characteristic_function_gb(heat_print_gbs[0][:, 0].new())\n",
    "assert isclose(rv_real_gb, rv_real, abs_tol=1e-15)\n",
    "assert isclose(rv_imag_gb, rv_imag, abs_tol=1e-15)"
   ]
  },
  {
   "cell_type": "markdown",
   "id": "7bcb61f1",
   "metadata": {},
   "source": [
    "#### Featurize, for real this time"
   ]
  },
  {
   "cell_type": "code",
   "execution_count": null,
   "id": "456e7c95",
   "metadata": {},
   "outputs": [],
   "source": [
    "feats = []\n",
    "for i, sig in enumerate(heat_print):\n",
    "    sig_feats = []\n",
    "    for node_sig in sig:\n",
    "        node_feats = characteristic_function(node_sig)\n",
    "        node_feats = np.column_stack([node_feats.real, node_feats.imag]).reshape(-1)\n",
    "        sig_feats.append(node_feats)\n",
    "    feats.append(np.vstack(sig_feats))\n",
    "result = np.hstack(feats)"
   ]
  },
  {
   "cell_type": "code",
   "execution_count": null,
   "id": "b5534923",
   "metadata": {},
   "outputs": [],
   "source": [
    "feats_gb = []\n",
    "for sig_gb in heat_print_gbs:\n",
    "    if not use_all_signals:\n",
    "        sig_gb = sig_gb.T.new()\n",
    "    sig_feats_gb = []\n",
    "    for i in range(sig_gb.nrows):\n",
    "        node_sig_gb = sig_gb[i, :].new()\n",
    "        real_gb, imag_gb = characteristic_function_gb(node_sig_gb)\n",
    "        # Vector concat or zip may be nice\n",
    "        # We don't need to zip here.  We could pack into `result_gb` however we wish.\n",
    "        # I do it this way to match the numpy code.\n",
    "        node_feats_gb = Vector.new(float, size=2*real_gb.size)\n",
    "        node_feats_gb[::2] = real_gb\n",
    "        node_feats_gb[1::2] = imag_gb\n",
    "        sig_feats_gb.append(node_feats_gb)\n",
    "    feats_gb.append(sig_feats_gb)"
   ]
  },
  {
   "cell_type": "code",
   "execution_count": null,
   "id": "6267fc11",
   "metadata": {},
   "outputs": [],
   "source": [
    "# Vector concat to Matrix may also be nice (see vstack and hstack)\n",
    "result_gb = Matrix.new(float, nrows=n_signals, ncols=n_features_out * node_feats_gb.size)\n",
    "for j, sig_feats_gb in enumerate(feats_gb):\n",
    "    for i, node_feats_gb in enumerate(sig_feats_gb):\n",
    "        result_gb[i, j*node_feats_gb.size:(j+1)*node_feats_gb.size] = node_feats_gb\n",
    "assert isclose(result_gb, result)"
   ]
  }
 ],
 "metadata": {
  "kernelspec": {
   "display_name": "Python 3 (ipykernel)",
   "language": "python",
   "name": "python3"
  },
  "language_info": {
   "codemirror_mode": {
    "name": "ipython",
    "version": 3
   },
   "file_extension": ".py",
   "mimetype": "text/x-python",
   "name": "python",
   "nbconvert_exporter": "python",
   "pygments_lexer": "ipython3",
   "version": "3.9.7"
  }
 },
 "nbformat": 4,
 "nbformat_minor": 5
}
