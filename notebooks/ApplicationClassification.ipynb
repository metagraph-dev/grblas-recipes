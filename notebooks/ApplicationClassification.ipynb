{
 "cells": [
  {
   "cell_type": "markdown",
   "id": "f5df67c5-74f3-4d39-9a21-ee8f9f7d0880",
   "metadata": {},
   "source": [
    "# Application Classification \n",
    "https://gunrock.github.io/docs/#/hive/hive_application_classification\n",
    "```bash\n",
    "git clone git@github.com:owensgroup/application_classification.git cub\n",
    "git clone git@gitlab.hiveprogram.com:pnnl/ApplicationClassification.git pnnl\n",
    "git clone git@gitlab.hiveprogram.com:wcude/ApplicationClassification.git wcude  # same as pnnl\n",
    "git clone git@gitlab.hiveprogram.com:jcromano/applicationClassification.git spark\n",
    "```\n",
    "This notebook is based on `test.py` from `cub`.  We have both NumPy and GraphBLAS implementations side-by-side.\n",
    "\n",
    "## Init"
   ]
  },
  {
   "cell_type": "code",
   "execution_count": null,
   "id": "b3d7d65d-70b1-418f-97bf-a6f3a7a2eb92",
   "metadata": {},
   "outputs": [],
   "source": [
    "import grblas as gb\n",
    "from grblas import *\n",
    "import numpy as np\n",
    "import pandas as pd\n",
    "from scipy.spatial.distance import cdist\n",
    "\n",
    "data_vertex    = pd.read_csv('./data/georgiyData.Vertex.csv', skiprows=1, sep=' ', header=None)\n",
    "pattern_vertex = pd.read_csv('./data/georgiyPattern.Vertex.csv', skiprows=1, sep=' ', header=None)\n",
    "\n",
    "data_edges    = pd.read_csv('./data/georgiyData.Edges.csv', skiprows=1, sep=' ', header=None)\n",
    "pattern_edges = pd.read_csv('./data/georgiyPattern.Edges.csv', skiprows=1, sep=' ', header=None)\n",
    "\n",
    "assert (data_vertex[0] == data_vertex.index).all()\n",
    "assert (pattern_vertex[0] == pattern_vertex.index).all()\n",
    "\n",
    "data_vertex      = data_vertex.values[:,1:]\n",
    "data_edges_table = data_edges[list(range(2, data_edges.shape[1]))].values\n",
    "data_edges       = data_edges[[0, 1]].values\n",
    "\n",
    "pattern_vertex      = pattern_vertex.values[:,1:]\n",
    "pattern_edges_table = pattern_edges[list(range(2, pattern_edges.shape[1]))].values\n",
    "pattern_edges       = pattern_edges[[0, 1]].values\n",
    "\n",
    "num_dv   = data_vertex.shape[0]\n",
    "num_pv   = pattern_vertex.shape[0]\n",
    "\n",
    "num_de   = data_edges.shape[0]\n",
    "num_pe   = pattern_edges.shape[0]\n",
    "\n",
    "edge_dim = pattern_edges.shape[1]"
   ]
  },
  {
   "cell_type": "code",
   "execution_count": null,
   "id": "07d81f16-24fc-489a-ac41-28d821d4832e",
   "metadata": {},
   "outputs": [],
   "source": [
    "data_edges = data_edges[np.lexsort(np.rot90(data_edges))]  # XXX: should we sort edges lexicographically?"
   ]
  },
  {
   "cell_type": "code",
   "execution_count": null,
   "id": "8b7fb175-a2a7-4083-8226-e0e38a53ceca",
   "metadata": {},
   "outputs": [],
   "source": [
    "def isclose(gb_x, np_y):\n",
    "    if isinstance(gb_x, Vector):\n",
    "        return gb_x.isclose(Vector.ss.import_full(np_y))\n",
    "    elif isinstance(gb_x, Matrix):\n",
    "        return gb_x.isclose(Matrix.ss.import_fullr(np_y))\n",
    "    else:  # Scalar\n",
    "        return gb_x.isclose(np_y)"
   ]
  },
  {
   "cell_type": "code",
   "execution_count": null,
   "id": "97a10fb8-aa83-4862-8df1-a29f91c09530",
   "metadata": {},
   "outputs": [],
   "source": [
    "data_vertex_gb = Matrix.ss.import_fullr(data_vertex)\n",
    "data_edges_table_gb = Matrix.ss.import_fullr(data_edges_table)\n",
    "data_edges_gb = Matrix.ss.import_fullr(data_edges)\n",
    "pattern_vertex_gb = Matrix.ss.import_fullr(pattern_vertex)\n",
    "pattern_edges_table_gb = Matrix.ss.import_fullr(pattern_edges_table)\n",
    "pattern_edges_gb = Matrix.ss.import_fullr(pattern_edges)"
   ]
  },
  {
   "cell_type": "code",
   "execution_count": null,
   "id": "a67d684b-6e49-4f58-8fca-f2b4f68b2aac",
   "metadata": {},
   "outputs": [],
   "source": [
    "data_gb = Matrix.from_values(data_edges[:, 0], data_edges[:, 1], 1)\n",
    "data_gb"
   ]
  },
  {
   "cell_type": "code",
   "execution_count": null,
   "id": "14811546-2819-41a7-90f4-bb4cb220625c",
   "metadata": {},
   "outputs": [],
   "source": [
    "pattern_gb = Matrix.from_values(pattern_edges[:, 0], pattern_edges[:, 1], 1)\n",
    "pattern_gb"
   ]
  },
  {
   "cell_type": "code",
   "execution_count": null,
   "id": "9c49a20a-5d46-4964-9a00-13aa57f5b182",
   "metadata": {},
   "outputs": [],
   "source": [
    "def normprob(x):\n",
    "    x = (x - x.max(axis=0, keepdims=True)).copy()\n",
    "    return np.log(np.exp(x) / np.exp(x).sum(axis=0, keepdims=True))\n",
    "\n",
    "def l2_norm(x):\n",
    "    return np.sqrt((x ** 2).sum())"
   ]
  },
  {
   "cell_type": "code",
   "execution_count": null,
   "id": "0731b5c1-663c-4c79-9cdf-efd85d448108",
   "metadata": {},
   "outputs": [],
   "source": [
    "def normprob_gb(x):\n",
    "    x = op.any_minus(x @ ss.diag(x.reduce_columnwise(op.max)))\n",
    "    return op.any_minus(x @ ss.diag(x.reduce_columnwise(agg.logaddexp))).new()"
   ]
  },
  {
   "cell_type": "markdown",
   "id": "eff866bd-a1e1-4fb5-b20f-f90c45ce8cd3",
   "metadata": {},
   "source": [
    "## Vertex similarity"
   ]
  },
  {
   "cell_type": "code",
   "execution_count": null,
   "id": "2139ddb3-cfc6-47ce-8349-841768031e46",
   "metadata": {},
   "outputs": [],
   "source": [
    "assert isclose(normprob_gb(data_vertex_gb), normprob(data_vertex))"
   ]
  },
  {
   "cell_type": "code",
   "execution_count": null,
   "id": "fb3921a3-b0f4-4da5-8949-a528a5231497",
   "metadata": {},
   "outputs": [],
   "source": [
    "assert isclose(data_vertex_gb.reduce_scalar(agg.L2norm).new(), l2_norm(data_vertex))"
   ]
  },
  {
   "cell_type": "markdown",
   "id": "34786f20",
   "metadata": {},
   "source": [
    "```C\n",
    "Init_CV_MU(Data_Graph, Pattern_Graph, WA.CV, WA.MU);  // NodePairwiseNorm\n",
    "```"
   ]
  },
  {
   "cell_type": "code",
   "execution_count": null,
   "id": "477cd918-19df-4ba7-bd26-2f959a752811",
   "metadata": {},
   "outputs": [],
   "source": [
    "cv = cdist(data_vertex, pattern_vertex)\n",
    "cv"
   ]
  },
  {
   "cell_type": "code",
   "execution_count": null,
   "id": "ab1e1f65-e05b-4a50-92f9-0d46f04a09b6",
   "metadata": {},
   "outputs": [],
   "source": [
    "def cdist_gb(X, Y):\n",
    "    # This is not the most numerically stable algorithm!\n",
    "    # https://scikit-learn.org/stable/modules/generated/sklearn.metrics.pairwise.euclidean_distances.html#sklearn.metrics.pairwise.euclidean_distances\n",
    "    XX = X.reduce_rows(agg.sum_of_squares)\n",
    "    YY = Y.reduce_rows(agg.sum_of_squares)\n",
    "    tempY = -2 * Y  # Y is smallest in this notebook, so apply `-2` here\n",
    "    rv = X @ tempY.T\n",
    "    rv = op.any_plus(ss.diag(XX) @ rv)\n",
    "    rv = op.any_plus(rv @ ss.diag(YY))\n",
    "    return op.sqrt(rv).new()"
   ]
  },
  {
   "cell_type": "code",
   "execution_count": null,
   "id": "6b252556-adda-42eb-9a1e-47eb0363ef4c",
   "metadata": {},
   "outputs": [],
   "source": [
    "cv_gb = cdist_gb(data_vertex_gb, pattern_vertex_gb)\n",
    "assert isclose(cv_gb, cv)"
   ]
  },
  {
   "cell_type": "markdown",
   "id": "3c58e73b",
   "metadata": {},
   "source": [
    "```C\n",
    "NormProb(DV, PV, WA.CV);  // ColumnSoftmax\n",
    "NormProb(DV, PV, WA.MU);  // ColumnSoftmax\n",
    "```"
   ]
  },
  {
   "cell_type": "code",
   "execution_count": null,
   "id": "3b1ae942-9894-4f9d-a932-3899bc536ace",
   "metadata": {},
   "outputs": [],
   "source": [
    "mu = normprob(-cv)\n",
    "cv = normprob(cv)"
   ]
  },
  {
   "cell_type": "code",
   "execution_count": null,
   "id": "c073686a-0ad7-4dab-b110-02325437b85f",
   "metadata": {},
   "outputs": [],
   "source": [
    "mu_gb = normprob_gb(-cv_gb)\n",
    "cv_gb = normprob_gb(cv_gb)"
   ]
  },
  {
   "cell_type": "code",
   "execution_count": null,
   "id": "5cce8de5-a6b2-46bc-a4c8-5ffd9f9e4039",
   "metadata": {},
   "outputs": [],
   "source": [
    "assert isclose(mu_gb, mu)\n",
    "assert isclose(cv_gb, cv)"
   ]
  },
  {
   "cell_type": "markdown",
   "id": "81ead679",
   "metadata": {},
   "source": [
    "Maybe?\n",
    "```C\n",
    "Init_VR_VF(Data_Graph, Pattern_Graph, WA.MU, WA.VR, WA.VF);  // RepeatColumnsByPatternEdges\n",
    "```"
   ]
  },
  {
   "cell_type": "markdown",
   "id": "0ea4037e",
   "metadata": {},
   "source": [
    "Maybe?\n",
    "```C\n",
    "VFmax_VRmax(Data_Graph, Pattern_Graph, WA.VF, WA.VR, WA.VFmax, WA.VRmax);  // ColumnMax\n",
    "```"
   ]
  },
  {
   "cell_type": "code",
   "execution_count": null,
   "id": "20708b29-24f6-47a4-bd9d-1bdbb0132f41",
   "metadata": {},
   "outputs": [],
   "source": [
    "mu_max = mu.max(axis=0)"
   ]
  },
  {
   "cell_type": "code",
   "execution_count": null,
   "id": "f9a8b2b7-e7f6-40b2-b605-e7b21ac8e878",
   "metadata": {},
   "outputs": [],
   "source": [
    "mu_max_gb = mu_gb.reduce_columnwise(op.max).new()\n",
    "assert isclose(mu_max_gb, mu_max)"
   ]
  },
  {
   "cell_type": "code",
   "execution_count": null,
   "id": "ec293a68-6941-494b-bd32-f4f7cb5742f4",
   "metadata": {},
   "outputs": [],
   "source": [
    "v_fwd_max = np.zeros(num_pe)\n",
    "v_bak_max = np.zeros(num_pe)\n",
    "for i, (src, dst) in enumerate(pattern_edges):\n",
    "    v_bak_max[i] = mu_max[src]\n",
    "    v_fwd_max[i] = mu_max[dst]"
   ]
  },
  {
   "cell_type": "code",
   "execution_count": null,
   "id": "c630d2cb-0bdf-4eb7-a500-caacaf7133aa",
   "metadata": {},
   "outputs": [],
   "source": [
    "v_bak_max_graph_gb = op.any_first(ss.diag(mu_max_gb) @ pattern_gb).new()\n",
    "assert v_bak_max_graph_gb.isclose(Matrix.from_values(pattern_edges[:, 0], pattern_edges[:, 1], v_bak_max))"
   ]
  },
  {
   "cell_type": "code",
   "execution_count": null,
   "id": "b7800f04-64c9-4495-9135-836d5a7cd029",
   "metadata": {},
   "outputs": [],
   "source": [
    "v_bak_max_graph_gb.wait()\n",
    "_, _, v_bak_max_gb = v_bak_max_graph_gb.to_values()\n",
    "v_bak_max_gb = Vector.ss.import_full(v_bak_max_gb)\n",
    "assert isclose(v_bak_max_gb, v_bak_max)"
   ]
  },
  {
   "cell_type": "code",
   "execution_count": null,
   "id": "d454860b-61fb-498e-bc99-8e9b75eb60a2",
   "metadata": {},
   "outputs": [],
   "source": [
    "v_fwd_max_graph_gb = op.any_second(pattern_gb @ ss.diag(mu_max_gb)).new()\n",
    "v_fwd_max_graph_gb.isclose(Matrix.from_values(pattern_edges[:, 0], pattern_edges[:, 1], v_fwd_max))"
   ]
  },
  {
   "cell_type": "code",
   "execution_count": null,
   "id": "9a359b2a-5041-4631-bb98-61c91ca6eeba",
   "metadata": {},
   "outputs": [],
   "source": [
    "v_fwd_max_graph_gb.wait()\n",
    "_, _, v_fwd_max_gb = v_fwd_max_graph_gb.to_values()\n",
    "v_fwd_max_gb = Vector.ss.import_full(v_fwd_max_gb)\n",
    "assert isclose(v_fwd_max_gb, v_fwd_max)"
   ]
  },
  {
   "cell_type": "markdown",
   "id": "0aad58e9-ea8b-45f4-b9a1-8f66e863d042",
   "metadata": {},
   "source": [
    "## Edge similarity"
   ]
  },
  {
   "cell_type": "markdown",
   "id": "1be3b2ba",
   "metadata": {},
   "source": [
    "```C\n",
    "Init_CE_RE_FE(Data_Graph, Pattern_Graph, WA.CE, WA.RE, WA.FE);  // EdgePairwiseNorm\n",
    "NormProb(DE, PE, WA.CE);  // ColumnSoftmax\n",
    "NormProb(DE, PE, WA.RE);  // ColumnSoftmax\n",
    "NormProb(DE, PE, WA.FE);  // ColumnSoftmax\n",
    "```"
   ]
  },
  {
   "cell_type": "code",
   "execution_count": null,
   "id": "7e9218e6-184d-4f54-a145-2261aacf9475",
   "metadata": {},
   "outputs": [],
   "source": [
    "ce = cdist(data_edges_table, pattern_edges_table)\n",
    "xe = normprob(-ce)\n",
    "ce = normprob(ce)"
   ]
  },
  {
   "cell_type": "code",
   "execution_count": null,
   "id": "df702ecb-1b17-4dad-9f9b-671debccf5cf",
   "metadata": {},
   "outputs": [],
   "source": [
    "ce_gb = cdist_gb(data_edges_table_gb, pattern_edges_table_gb)\n",
    "xe_gb = normprob_gb(-ce_gb)\n",
    "ce_gb = normprob_gb(ce_gb)"
   ]
  },
  {
   "cell_type": "code",
   "execution_count": null,
   "id": "3643e538-06ba-48ca-b211-45e48e5026a7",
   "metadata": {},
   "outputs": [],
   "source": [
    "assert isclose(ce_gb, ce)\n",
    "assert isclose(xe_gb, xe)"
   ]
  },
  {
   "cell_type": "markdown",
   "id": "3c6004a5-5c85-40e6-bd68-48c84001b05d",
   "metadata": {},
   "source": [
    "## Combine"
   ]
  },
  {
   "cell_type": "markdown",
   "id": "7cb07bef",
   "metadata": {},
   "source": [
    "```C\n",
    "Init_Cnull(Data_Graph, Pattern_Graph, WA.CE, WA.Cnull);  // ???\n",
    "NormProb(1, PE, WA.Cnull);  // ColumnSoftmax\n",
    "```"
   ]
  },
  {
   "cell_type": "code",
   "execution_count": null,
   "id": "8ced1811-3da2-4eaf-b750-993350ddc49f",
   "metadata": {},
   "outputs": [],
   "source": [
    "# >>\n",
    "# cnull = np.sqrt((pattern_edges_table ** 2).sum(axis=-1))\n",
    "# cnull = np.maximum(cnull, ce.max(axis=0))\n",
    "# cnull = normprob(cnull)\n",
    "# --\n",
    "cnull = np.zeros(num_pe) # bug in code?\n",
    "# <<"
   ]
  },
  {
   "cell_type": "code",
   "execution_count": null,
   "id": "cff8d815",
   "metadata": {},
   "outputs": [],
   "source": [
    "cnull_gb = Vector.new(float, size=num_pe)\n",
    "cnull_gb << 0"
   ]
  },
  {
   "cell_type": "markdown",
   "id": "80719f26",
   "metadata": {},
   "source": [
    "```C\n",
    "FMax(Data_Graph, Pattern_Graph, WA.Cnull, WA.VRmax, WA.FE, WA.FMax);  // EdgeMaxReduce\n",
    "RMax(Data_Graph, Pattern_Graph, WA.Cnull, WA.VFmax, WA.RE, WA.RMax);  // EdgeMaxReduce\n",
    "```"
   ]
  },
  {
   "cell_type": "code",
   "execution_count": null,
   "id": "2f8eb27c-79ec-4127-8224-3b46fe86562e",
   "metadata": {
    "tags": []
   },
   "outputs": [],
   "source": [
    "fwd_max = np.zeros((num_dv, num_pe))\n",
    "bak_max = np.zeros((num_dv, num_pe))\n",
    "# possible alternative to avoid if-else below\n",
    "# fwd_max = np.repeat(v_bak_max[np.newaxis, :], num_pe, axis=0)\n",
    "# bak_max = np.repeat(v_fwd_max[np.newaxis, :], num_pe, axis=0)\n",
    "\n",
    "fwd_touched = set([])\n",
    "bak_touched = set([])\n",
    "for edge_idx, (src, dst) in enumerate(data_edges):\n",
    "    if dst not in fwd_touched:\n",
    "        fwd_max[dst] = np.maximum(v_bak_max, xe[edge_idx])\n",
    "        #fwd_max[dst] = np.minimum(v_bak_max, xe[edge_idx])  # XXX\n",
    "        fwd_touched.add(dst)\n",
    "    else:\n",
    "        fwd_max[dst] = np.maximum(fwd_max[dst], xe[edge_idx])\n",
    "        #fwd_max[dst] = np.minimum(fwd_max[dst], xe[edge_idx])  # XXX\n",
    "\n",
    "    if src not in bak_touched:\n",
    "        bak_max[src] = np.maximum(v_fwd_max, xe[edge_idx])\n",
    "        #bak_max[src] = np.minimum(v_fwd_max, xe[edge_idx])  # XXX\n",
    "        bak_touched.add(src)\n",
    "    else:\n",
    "        bak_max[src] = np.maximum(bak_max[src], xe[edge_idx])\n",
    "        #bak_max[src] = np.minimum(bak_max[src], xe[edge_idx])  # XXX"
   ]
  },
  {
   "cell_type": "code",
   "execution_count": null,
   "id": "ccef1ce7-ac05-4c7c-aadc-dbd125e2d8c6",
   "metadata": {},
   "outputs": [],
   "source": [
    "dr, dc, _ = data_gb.to_values()"
   ]
  },
  {
   "cell_type": "code",
   "execution_count": null,
   "id": "e4a49b41-eb83-4ed2-803a-4dd52b887b02",
   "metadata": {},
   "outputs": [],
   "source": [
    "data_fwd_graph = Matrix.from_values(dc, np.arange(data_gb.nvals), 1)\n",
    "fwd_max_gb = op.max_second(data_fwd_graph @ xe_gb).new()\n",
    "fwd_max_gb = op.any_max(fwd_max_gb @ ss.diag(v_bak_max_gb)).new()\n",
    "assert isclose(fwd_max_gb, fwd_max)"
   ]
  },
  {
   "cell_type": "code",
   "execution_count": null,
   "id": "dbbce99d-0ac2-462b-833e-f935bf86db81",
   "metadata": {},
   "outputs": [],
   "source": [
    "data_bak_graph = Matrix.from_values(dr, np.arange(data_gb.nvals), 1)\n",
    "bak_max_gb = op.max_second(data_bak_graph @ xe_gb).new()\n",
    "bak_max_gb = op.any_max(bak_max_gb @ ss.diag(v_fwd_max_gb)).new()\n",
    "assert isclose(bak_max_gb, bak_max)"
   ]
  },
  {
   "cell_type": "code",
   "execution_count": null,
   "id": "03cdc25d-4a11-493f-958b-351e58b82832",
   "metadata": {},
   "outputs": [],
   "source": [
    "if False:\n",
    "    # check when running the above with min to see if we iterate over patterns correctly\n",
    "    fwd_max_gb = op.min_second(Matrix.from_values(c, np.arange(data_gb.nvals), 1) @ xe_gb).new()\n",
    "    fwd_max_gb = op.any_min(fwd_max_gb @ ss.diag(v_bak_max_gb)).new()\n",
    "    bak_max_gb = op.min_second(Matrix.from_values(r, np.arange(data_gb.nvals), 1) @ xe_gb).new()\n",
    "    bak_max_gb = op.any_min(bak_max_gb @ ss.diag(v_fwd_max_gb)).new()\n",
    "    assert isclose(fwd_max_gb, fwd_max)\n",
    "    assert isclose(fwd_max_gb, fwd_max)"
   ]
  },
  {
   "cell_type": "markdown",
   "id": "f13a049b-fcdd-4bd3-9d42-4df1348463d9",
   "metadata": {},
   "source": [
    "### Loop"
   ]
  },
  {
   "cell_type": "markdown",
   "id": "15ea5371",
   "metadata": {},
   "source": [
    "```C\n",
    "VF_VR(Data_Graph, Pattern_Graph, WA.MU, WA.FMax, WA.RMax, WA.VF, WA.VR);  // RepeatColumnsByPatternEdgesSubtract\n",
    "VFmax_VRmax(Data_Graph, Pattern_Graph, WA.VF, WA.VR, WA.VFmax, WA.VRmax); // ColumnMax\n",
    "FE_RE(Data_Graph, Pattern_Graph, WA.CE, WA.VF, WA.VR, WA.FE, WA.RE);      // RepeatColumnsByDataEdges\n",
    "NormProb(DE, PE, WA.FE);                                                  // ColumnSoftmax\n",
    "NormProb(DE, PE, WA.RE);                                                  // ColumnSoftmax\n",
    "FMax(Data_Graph, Pattern_Graph, WA.Cnull, WA.VRmax, WA.FE, WA.FMax);      // EdgeMaxReduce\n",
    "RMax(Data_Graph, Pattern_Graph, WA.Cnull, WA.VFmax, WA.RE, WA.RMax);      // EdgeMaxReduce\n",
    "MU(Data_Graph, Pattern_Graph, WA.CV, WA.FMax, WA.RMax, WA.MU);            // ComputeMU\n",
    "NormProb(DV, PV, WA.MU);                                                  // ColumnSoftmax\n",
    "```"
   ]
  },
  {
   "cell_type": "code",
   "execution_count": null,
   "id": "126b2a63",
   "metadata": {},
   "outputs": [],
   "source": [
    "v_fwd = np.zeros((num_dv, num_pe))\n",
    "v_bak = np.zeros((num_dv, num_pe))"
   ]
  },
  {
   "cell_type": "code",
   "execution_count": null,
   "id": "548f4e09",
   "metadata": {},
   "outputs": [],
   "source": [
    "pattern_gb.wait()\n",
    "pr, pc, _ = pattern_gb.to_values()"
   ]
  },
  {
   "cell_type": "code",
   "execution_count": null,
   "id": "5fc47992",
   "metadata": {},
   "outputs": [],
   "source": [
    "# for _ in range(num_pv):"
   ]
  },
  {
   "cell_type": "code",
   "execution_count": null,
   "id": "c1c6afb9",
   "metadata": {},
   "outputs": [],
   "source": [
    "for p_edge_idx, (src, dst) in enumerate(pattern_edges):\n",
    "    v_fwd[:,p_edge_idx] = mu[:,dst] - fwd_max[:,p_edge_idx]\n",
    "    v_bak[:,p_edge_idx] = mu[:,src] - bak_max[:,p_edge_idx]"
   ]
  },
  {
   "cell_type": "code",
   "execution_count": null,
   "id": "53953120",
   "metadata": {},
   "outputs": [],
   "source": [
    "pattern_fwd_graph = Matrix.from_values(pc, np.arange(pattern_gb.nvals), 1)\n",
    "v_fwd_gb = op.any_first(mu_gb @ pattern_fwd_graph).new()\n",
    "v_fwd_gb = op.minus(v_fwd_gb & fwd_max_gb).new()\n",
    "assert isclose(v_fwd_gb, v_fwd)\n",
    "\n",
    "pattern_bak_graph = Matrix.from_values(pr, np.arange(pattern_gb.nvals), 1)\n",
    "v_bak_gb = op.any_first(mu_gb @ pattern_bak_graph).new()\n",
    "v_bak_gb = op.minus(v_bak_gb & bak_max_gb).new()\n",
    "assert isclose(v_bak_gb, v_bak)"
   ]
  },
  {
   "cell_type": "markdown",
   "id": "d4c071c2",
   "metadata": {},
   "source": [
    "maybe?\n",
    "```C\n",
    "VFmax_VRmax(Data_Graph, Pattern_Graph, WA.VF, WA.VR, WA.VFmax, WA.VRmax); // ColumnMax\n",
    "```"
   ]
  },
  {
   "cell_type": "code",
   "execution_count": null,
   "id": "3b0fb952",
   "metadata": {},
   "outputs": [],
   "source": [
    "v_fwd_max = v_fwd.max(axis=0)\n",
    "v_bak_max = v_bak.max(axis=0)"
   ]
  },
  {
   "cell_type": "code",
   "execution_count": null,
   "id": "93b9b15b",
   "metadata": {},
   "outputs": [],
   "source": [
    "v_fwd_max_gb = v_fwd_gb.reduce_columnwise(op.max).new()\n",
    "assert isclose(v_fwd_max_gb, v_fwd_max)\n",
    "\n",
    "v_bak_max_gb = v_bak_gb.reduce_columnwise(op.max).new()\n",
    "assert isclose(v_bak_max_gb, v_bak_max)"
   ]
  },
  {
   "cell_type": "code",
   "execution_count": null,
   "id": "e30bfa36",
   "metadata": {},
   "outputs": [],
   "source": [
    "e_bak = v_fwd[data_edges[:,0]] - ce\n",
    "e_fwd = v_bak[data_edges[:,0]] - ce"
   ]
  },
  {
   "cell_type": "code",
   "execution_count": null,
   "id": "228de016",
   "metadata": {},
   "outputs": [],
   "source": [
    "e_bak_gb = op.any_second(data_bak_graph.T @ v_fwd_gb).new()\n",
    "e_bak_gb = op.minus(e_bak_gb & ce_gb).new()\n",
    "assert isclose(e_bak_gb, e_bak)\n",
    "\n",
    "e_fwd_gb = op.any_second(data_bak_graph.T @ v_bak_gb).new()\n",
    "e_fwd_gb = op.minus(e_fwd_gb & ce_gb).new()\n",
    "assert isclose(e_fwd_gb, e_fwd)"
   ]
  },
  {
   "cell_type": "code",
   "execution_count": null,
   "id": "e7b855dc",
   "metadata": {},
   "outputs": [],
   "source": [
    "e_bak_norm = np.log(np.exp(e_bak).sum(axis=0, keepdims=True))\n",
    "e_fwd_norm = np.log(np.exp(e_fwd).sum(axis=0, keepdims=True))"
   ]
  },
  {
   "cell_type": "code",
   "execution_count": null,
   "id": "a3fe3331",
   "metadata": {},
   "outputs": [],
   "source": [
    "# Why doesn't this use normprob_gb?\n",
    "e_bak_norm_gb = e_bak_gb.reduce_columnwise(op.numpy.logaddexp).new()\n",
    "assert isclose(e_bak_norm_gb, e_bak_norm[0, :])\n",
    "\n",
    "e_fwd_norm_gb = e_fwd_gb.reduce_columnwise(op.numpy.logaddexp).new()\n",
    "assert isclose(e_fwd_norm_gb, e_fwd_norm[0, :])"
   ]
  },
  {
   "cell_type": "code",
   "execution_count": null,
   "id": "af3304e4",
   "metadata": {},
   "outputs": [],
   "source": [
    "fwd_max = np.zeros((num_dv, num_pe)) - np.inf # num_dv x num_pe\n",
    "bak_max = np.zeros((num_dv, num_pe)) - np.inf # num_dv x num_pe\n",
    "\n",
    "sel = np.argsort(data_edges[:,0],  kind='mergesort')  # XXX: why?\n",
    "for d_edge_idx, (src, dst) in enumerate(data_edges[sel]):\n",
    "    bak_max[src] = np.maximum(bak_max[src], e_bak[d_edge_idx])\n",
    "\n",
    "for d_edge_idx, (src, dst) in enumerate(data_edges[sel]):\n",
    "    fwd_max[dst] = np.maximum(fwd_max[dst], e_fwd[d_edge_idx])"
   ]
  },
  {
   "cell_type": "code",
   "execution_count": null,
   "id": "c4ac8515",
   "metadata": {},
   "outputs": [],
   "source": [
    "fwd_max_gb = op.max_second(data_fwd_graph @ e_fwd_gb).new()\n",
    "assert isclose(fwd_max_gb, fwd_max)\n",
    "\n",
    "bak_max_gb = op.max_second(data_bak_graph @ e_bak_gb).new()\n",
    "assert isclose(bak_max_gb, bak_max)"
   ]
  },
  {
   "cell_type": "code",
   "execution_count": null,
   "id": "714109b6",
   "metadata": {},
   "outputs": [],
   "source": [
    "fwd_max -= e_fwd_norm\n",
    "bak_max -= e_bak_norm"
   ]
  },
  {
   "cell_type": "code",
   "execution_count": null,
   "id": "3d94952d",
   "metadata": {},
   "outputs": [],
   "source": [
    "fwd_max_gb = op.any_minus(fwd_max_gb @ ss.diag(e_fwd_norm_gb)).new()\n",
    "assert isclose(fwd_max_gb, fwd_max)\n",
    "\n",
    "bak_max_gb = op.any_minus(bak_max_gb @ ss.diag(e_bak_norm_gb)).new()\n",
    "assert isclose(bak_max_gb, bak_max)"
   ]
  },
  {
   "cell_type": "code",
   "execution_count": null,
   "id": "e207b2ac",
   "metadata": {},
   "outputs": [],
   "source": [
    "fwd_max = np.maximum(fwd_max, (v_bak_max - cnull).reshape(1, -1))\n",
    "bak_max = np.maximum(bak_max, (v_fwd_max - cnull).reshape(1, -1))"
   ]
  },
  {
   "cell_type": "code",
   "execution_count": null,
   "id": "009cffcb",
   "metadata": {},
   "outputs": [],
   "source": [
    "fwd_max_gb = op.any_max(fwd_max_gb @ ss.diag(op.minus(v_bak_max_gb & cnull_gb))).new()\n",
    "assert isclose(fwd_max_gb, fwd_max)\n",
    "\n",
    "bak_max_gb = op.any_max(bak_max_gb @ ss.diag(op.minus(v_fwd_max_gb & cnull_gb))).new()\n",
    "assert isclose(bak_max_gb, bak_max)"
   ]
  },
  {
   "cell_type": "markdown",
   "id": "7a388a37",
   "metadata": {},
   "source": [
    "```C\n",
    "MU(Data_Graph, Pattern_Graph, WA.CV, WA.FMax, WA.RMax, WA.MU);  // ComputeMU\n",
    "NormProb(DV, PV, WA.MU);  // ColumnSoftmax\n",
    "```"
   ]
  },
  {
   "cell_type": "code",
   "execution_count": null,
   "id": "2634b38e-feaf-4654-8278-406fb7ee14dc",
   "metadata": {},
   "outputs": [],
   "source": [
    "mu = -cv\n",
    "for p_edge_idx, (src, dst) in enumerate(pattern_edges):\n",
    "    mu[:,dst] += fwd_max[:,p_edge_idx]\n",
    "    mu[:,src] += bak_max[:,p_edge_idx]\n",
    "mu = normprob(mu)"
   ]
  },
  {
   "cell_type": "code",
   "execution_count": null,
   "id": "26b4e2b7",
   "metadata": {},
   "outputs": [],
   "source": [
    "mu_gb = op.ainv(cv_gb).new()\n",
    "mu_gb(op.plus) << op.plus_plus(fwd_max_gb @ pattern_fwd_graph.T)\n",
    "mu_gb(op.plus) << op.plus_plus(bak_max_gb @ pattern_bak_graph.T)\n",
    "mu_gb = normprob_gb(mu_gb)\n",
    "assert isclose(mu_gb, mu)"
   ]
  },
  {
   "cell_type": "code",
   "execution_count": null,
   "id": "9095a198",
   "metadata": {},
   "outputs": [],
   "source": []
  }
 ],
 "metadata": {
  "kernelspec": {
   "display_name": "Python 3 (ipykernel)",
   "language": "python",
   "name": "python3"
  },
  "language_info": {
   "codemirror_mode": {
    "name": "ipython",
    "version": 3
   },
   "file_extension": ".py",
   "mimetype": "text/x-python",
   "name": "python",
   "nbconvert_exporter": "python",
   "pygments_lexer": "ipython3",
   "version": "3.9.7"
  }
 },
 "nbformat": 4,
 "nbformat_minor": 5
}
