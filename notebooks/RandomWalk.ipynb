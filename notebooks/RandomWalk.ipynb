{
 "cells": [
  {
   "cell_type": "markdown",
   "id": "a34212c8",
   "metadata": {},
   "source": [
    "# Random Walk"
   ]
  },
  {
   "cell_type": "code",
   "execution_count": null,
   "id": "2d47d443",
   "metadata": {},
   "outputs": [],
   "source": [
    "from grblas import *\n",
    "import numpy as np"
   ]
  },
  {
   "cell_type": "code",
   "execution_count": null,
   "id": "9e062371",
   "metadata": {},
   "outputs": [],
   "source": [
    "m = np.array([[0, 1, 0, 1, 1, 0, 0, 0],\n",
    "              [0, 0, 0, 1, 0, 0, 0, 0],\n",
    "              [0, 0, 0, 0, 1, 0, 1, 0],\n",
    "              [0, 1, 0, 0, 1, 0, 0, 0],\n",
    "              [1, 1, 0, 0, 0, 0, 0, 0],\n",
    "              [0, 0, 1, 0, 0, 0, 0, 0],\n",
    "              [0, 0, 1, 0, 0, 1, 0, 0],\n",
    "              [0, 0, 1, 0, 0, 0, 0, 0]], dtype=bool)\n",
    "# make symmetric (for now)\n",
    "m = m + m.T\n",
    "A = Matrix.ss.import_bitmapr(bitmap=m, values=m, dtype=int)\n",
    "del A[7, 2]  # No outgoing edges from node 7\n",
    "A"
   ]
  },
  {
   "cell_type": "markdown",
   "id": "c698e900",
   "metadata": {},
   "source": [
    "For walkers, we could do:\n",
    "- each vertex\n",
    "- each vertex repeated k times\n",
    "- random subset of vertices, each repeated k times\n",
    "- random vertices with replacement (let's do this one for now)"
   ]
  },
  {
   "cell_type": "code",
   "execution_count": null,
   "id": "697f5853",
   "metadata": {},
   "outputs": [],
   "source": [
    "max_steps = 10\n",
    "num_walkers = 20"
   ]
  },
  {
   "cell_type": "code",
   "execution_count": null,
   "id": "9dc9ecb0",
   "metadata": {},
   "outputs": [],
   "source": [
    "# Frontier\n",
    "walker_init = np.random.randint(0, A.nrows, size=num_walkers)\n",
    "F = Matrix.from_values(np.arange(num_walkers, dtype=np.uint64), walker_init, 1)\n",
    "F"
   ]
  },
  {
   "cell_type": "code",
   "execution_count": null,
   "id": "b6013884",
   "metadata": {},
   "outputs": [],
   "source": [
    "# Record the path taken by each walker\n",
    "paths = Matrix.new(int, num_walkers, max_steps + 1)"
   ]
  },
  {
   "cell_type": "code",
   "execution_count": null,
   "id": "80d07980",
   "metadata": {},
   "outputs": [],
   "source": [
    "# Starting positions\n",
    "paths[:, 0] = op.positionj(F).reduce_rowwise(op.any).new()\n",
    "paths"
   ]
  },
  {
   "cell_type": "code",
   "execution_count": null,
   "id": "f45c2c56",
   "metadata": {},
   "outputs": [],
   "source": [
    "for i in range(max_steps):\n",
    "    B = op.any_second(F @ A).new()\n",
    "    if B.nvals == 0:\n",
    "        break\n",
    "    F = B.ss.selectk_rowwise('random', 1)\n",
    "    paths[:, i + 1] = op.positionj(F).reduce_rowwise(op.any).new()"
   ]
  },
  {
   "cell_type": "code",
   "execution_count": null,
   "id": "e96b51b4",
   "metadata": {},
   "outputs": [],
   "source": [
    "paths"
   ]
  }
 ],
 "metadata": {
  "kernelspec": {
   "display_name": "Python 3 (ipykernel)",
   "language": "python",
   "name": "python3"
  },
  "language_info": {
   "codemirror_mode": {
    "name": "ipython",
    "version": 3
   },
   "file_extension": ".py",
   "mimetype": "text/x-python",
   "name": "python",
   "nbconvert_exporter": "python",
   "pygments_lexer": "ipython3",
   "version": "3.9.7"
  }
 },
 "nbformat": 4,
 "nbformat_minor": 5
}
